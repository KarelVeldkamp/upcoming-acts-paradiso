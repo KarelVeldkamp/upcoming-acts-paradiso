{
 "cells": [
  {
   "cell_type": "code",
   "execution_count": 81,
   "id": "7731d29e",
   "metadata": {},
   "outputs": [],
   "source": [
    "import time\n",
    "from selenium import webdriver\n",
    "from webdriver_manager.chrome import ChromeDriverManager\n",
    "from bs4 import BeautifulSoup \n",
    "import calendar\n",
    "import datetime\n",
    "import re\n",
    "import difflib\n",
    "import spotipy\n",
    "from spotipy.oauth2 import SpotifyOAuth\n",
    "import os\n",
    "from difflib import SequenceMatcher\n",
    "import time\n",
    "os.environ[\"SPOTIPY_REDIRECT_URI\"] = \"https://google.com/\"\n",
    "SCOPE = [\"user-library-read\", \"playlist-modify-public\"]\n",
    "PLAYLIST_ID = '0rALt9jdkB15XIQvTncxiy'\n",
    "\n",
    "\n",
    "auth = spotipy.oauth2.SpotifyOAuth(scope=['playlist-modify-public', 'playlist-modify-private'])\n",
    "spotify = spotipy.Spotify(auth_manager=auth)\n",
    "\n",
    "\n",
    "\n",
    "#spotify = spotipy.Spotify(client_credentials_manager=SpotifyClientCredentials(scope=scope))\n",
    "\n",
    "SCROLL_PAUSE_TIME = .5\n",
    "N_DAYS = 14\n",
    "month_dict = {\n",
    "    'jan':1,\n",
    "    'feb':2,\n",
    "    'mrt':3,\n",
    "    'apr':4,\n",
    "    'mei':5,\n",
    "    'jun':6,\n",
    "    'jul':7,\n",
    "    'aug':8,\n",
    "    'sep':9,\n",
    "    'okt':10,\n",
    "    'nov':11,\n",
    "    'dec':12\n",
    "}\n",
    "def string_similarity(a, b):\n",
    "    return SequenceMatcher(None, a, b).ratio()\n",
    "\n",
    "\n",
    "def scrape_events():\n",
    "    option = webdriver.ChromeOptions()\n",
    "    option.add_argument('headless')\n",
    "    driver = webdriver.Chrome(ChromeDriverManager().install(), options=option)\n",
    "    driver.get('https://www.paradiso.nl/nl/')\n",
    "\n",
    "    now = datetime.datetime.now()\n",
    "\n",
    "\n",
    "\n",
    "\n",
    "    scroll_height = 1000\n",
    "    # Get scroll height\n",
    "    last_height = driver.execute_script(\"return document.body.scrollHeight\")\n",
    "    # scroll down up to the minimum number of days\n",
    "    while True:\n",
    "        # Scroll down to bottom\n",
    "        driver.execute_script(f\"window.scrollTo(0, {scroll_height})\") \n",
    "        scroll_height += 1000\n",
    "\n",
    "\n",
    "        # Wait to load page\n",
    "        time.sleep(SCROLL_PAUSE_TIME)\n",
    "\n",
    "        # get final string date\n",
    "        html = driver.page_source\n",
    "        soup = BeautifulSoup(html, \"html.parser\")\n",
    "        date_string = soup.find_all('div', class_='event-list__category col-xs-12 col-lg-2 ng-binding ng-scope')[-1].text\n",
    "        # last 3 letters are the month\n",
    "        month_number = month_dict[date_string.lower()[-3:]]\n",
    "        # the numbers are the day\n",
    "        day_number = int(re.findall('[0-9]+', date_string)[0])\n",
    "        date = datetime.datetime(year=now.year, month=month_number, day=day_number)\n",
    "\n",
    "        if (date - now).days > N_DAYS:\n",
    "            events = soup.find_all('div', class_='event-list__items')\n",
    "            return events\n",
    "    \n",
    "\n",
    "\n",
    "def extract_titles(events):\n",
    "    # loop though list of events\n",
    "    titles = []\n",
    "    for event in events:\n",
    "        # continue to next iteration if event is canceled or postponed\n",
    "        message = event.find('span', class_='event-list__item-status ng-binding ng-scope')\n",
    "        if message:\n",
    "            if message.text.lower() in ['afgelast', 'uitgesteld']:\n",
    "                continue\n",
    "        # get event title\n",
    "        event_title = event.find('span', 'event-list__item-title ng-binding ng-scope').text\n",
    "        titles.append(event_title)\n",
    "    return titles\n",
    "\n",
    "def clean_title(title):\n",
    "    title = title.lower()\n",
    "    if '+' in title:\n",
    "        title = title.split('+')[0]\n",
    "    return title\n",
    "\n",
    "def search_artists(names):\n",
    "    ids = []\n",
    "    for name in names:\n",
    "        results = spotify.search(q='artist:' + name, type='artist')\n",
    "        items = results['artists']['items']\n",
    "        if len(items):\n",
    "            spotify_name = items[0]['name'].lower()\n",
    "\n",
    "            if string_similarity(name, spotify_name) > .9:\n",
    "                ids.append(items[0]['id'])\n",
    "        \n",
    "    return ids\n",
    "    "
   ]
  },
  {
   "cell_type": "code",
   "execution_count": 40,
   "id": "2eaa1203",
   "metadata": {},
   "outputs": [
    {
     "name": "stderr",
     "output_type": "stream",
     "text": [
      "\n",
      "\n",
      "====== WebDriver manager ======\n",
      "Current google-chrome version is 100.0.4896\n",
      "Get LATEST chromedriver version for 100.0.4896 google-chrome\n",
      "Driver [/Users/xite/.wdm/drivers/chromedriver/mac64/100.0.4896.60/chromedriver] found in cache\n",
      "/var/folders/p4/3s4192592675f71sdffr2ydr0000gn/T/ipykernel_85670/3679385948.py:48: DeprecationWarning: executable_path has been deprecated, please pass in a Service object\n",
      "  driver = webdriver.Chrome(ChromeDriverManager().install(), options=option)\n"
     ]
    }
   ],
   "source": [
    "events = scrape_events()\n",
    "titles = extract_titles(events)\n",
    "artists = [clean_title(t) for t in titles]\n",
    "artist_ids = search_artists(artists)"
   ]
  },
  {
   "cell_type": "code",
   "execution_count": 83,
   "id": "8269d812",
   "metadata": {},
   "outputs": [
    {
     "name": "stderr",
     "output_type": "stream",
     "text": [
      "HTTP Error for POST to https://api.spotify.com/v1/playlists/0rALt9jdkB15XIQvTncxiy/tracks with Params: {'position': None} returned 400 due to Error parsing JSON.\n"
     ]
    },
    {
     "name": "stdout",
     "output_type": "stream",
     "text": [
      "0\n"
     ]
    },
    {
     "ename": "SpotifyException",
     "evalue": "http status: 400, code:-1 - https://api.spotify.com/v1/playlists/0rALt9jdkB15XIQvTncxiy/tracks:\n Error parsing JSON., reason: None",
     "output_type": "error",
     "traceback": [
      "\u001b[0;31m---------------------------------------------------------------------------\u001b[0m",
      "\u001b[0;31mHTTPError\u001b[0m                                 Traceback (most recent call last)",
      "\u001b[0;32m~/opt/anaconda3/lib/python3.9/site-packages/spotipy/client.py\u001b[0m in \u001b[0;36m_internal_call\u001b[0;34m(self, method, url, payload, params)\u001b[0m\n\u001b[1;32m    244\u001b[0m \u001b[0;34m\u001b[0m\u001b[0m\n\u001b[0;32m--> 245\u001b[0;31m             \u001b[0mresponse\u001b[0m\u001b[0;34m.\u001b[0m\u001b[0mraise_for_status\u001b[0m\u001b[0;34m(\u001b[0m\u001b[0;34m)\u001b[0m\u001b[0;34m\u001b[0m\u001b[0;34m\u001b[0m\u001b[0m\n\u001b[0m\u001b[1;32m    246\u001b[0m             \u001b[0mresults\u001b[0m \u001b[0;34m=\u001b[0m \u001b[0mresponse\u001b[0m\u001b[0;34m.\u001b[0m\u001b[0mjson\u001b[0m\u001b[0;34m(\u001b[0m\u001b[0;34m)\u001b[0m\u001b[0;34m\u001b[0m\u001b[0;34m\u001b[0m\u001b[0m\n",
      "\u001b[0;32m~/opt/anaconda3/lib/python3.9/site-packages/requests/models.py\u001b[0m in \u001b[0;36mraise_for_status\u001b[0;34m(self)\u001b[0m\n\u001b[1;32m    952\u001b[0m         \u001b[0;32mif\u001b[0m \u001b[0mhttp_error_msg\u001b[0m\u001b[0;34m:\u001b[0m\u001b[0;34m\u001b[0m\u001b[0;34m\u001b[0m\u001b[0m\n\u001b[0;32m--> 953\u001b[0;31m             \u001b[0;32mraise\u001b[0m \u001b[0mHTTPError\u001b[0m\u001b[0;34m(\u001b[0m\u001b[0mhttp_error_msg\u001b[0m\u001b[0;34m,\u001b[0m \u001b[0mresponse\u001b[0m\u001b[0;34m=\u001b[0m\u001b[0mself\u001b[0m\u001b[0;34m)\u001b[0m\u001b[0;34m\u001b[0m\u001b[0;34m\u001b[0m\u001b[0m\n\u001b[0m\u001b[1;32m    954\u001b[0m \u001b[0;34m\u001b[0m\u001b[0m\n",
      "\u001b[0;31mHTTPError\u001b[0m: 400 Client Error: Bad Request for url: https://api.spotify.com/v1/playlists/0rALt9jdkB15XIQvTncxiy/tracks",
      "\nDuring handling of the above exception, another exception occurred:\n",
      "\u001b[0;31mSpotifyException\u001b[0m                          Traceback (most recent call last)",
      "\u001b[0;32m/var/folders/p4/3s4192592675f71sdffr2ydr0000gn/T/ipykernel_85670/3994622918.py\u001b[0m in \u001b[0;36m<module>\u001b[0;34m\u001b[0m\n\u001b[1;32m     30\u001b[0m     \u001b[0mfirst\u001b[0m \u001b[0;34m=\u001b[0m \u001b[0mi\u001b[0m\u001b[0;34m*\u001b[0m\u001b[0;36m100\u001b[0m\u001b[0;34m\u001b[0m\u001b[0;34m\u001b[0m\u001b[0m\n\u001b[1;32m     31\u001b[0m     \u001b[0mlast\u001b[0m \u001b[0;34m=\u001b[0m \u001b[0mmin\u001b[0m\u001b[0;34m(\u001b[0m\u001b[0mi\u001b[0m\u001b[0;34m*\u001b[0m\u001b[0;36m100\u001b[0m\u001b[0;34m+\u001b[0m\u001b[0;36m100\u001b[0m\u001b[0;34m,\u001b[0m \u001b[0mlen\u001b[0m\u001b[0;34m(\u001b[0m\u001b[0mto_add\u001b[0m\u001b[0;34m)\u001b[0m\u001b[0;34m)\u001b[0m\u001b[0;34m\u001b[0m\u001b[0;34m\u001b[0m\u001b[0m\n\u001b[0;32m---> 32\u001b[0;31m     spotify.playlist_add_items(PLAYLIST_ID, \n\u001b[0m\u001b[1;32m     33\u001b[0m                                track_ids[first:last])\n\u001b[1;32m     34\u001b[0m     \u001b[0mtime\u001b[0m\u001b[0;34m.\u001b[0m\u001b[0msleep\u001b[0m\u001b[0;34m(\u001b[0m\u001b[0;36m3\u001b[0m\u001b[0;34m)\u001b[0m\u001b[0;34m\u001b[0m\u001b[0;34m\u001b[0m\u001b[0m\n",
      "\u001b[0;32m~/opt/anaconda3/lib/python3.9/site-packages/spotipy/client.py\u001b[0m in \u001b[0;36mplaylist_add_items\u001b[0;34m(self, playlist_id, items, position)\u001b[0m\n\u001b[1;32m   1029\u001b[0m         \u001b[0mplid\u001b[0m \u001b[0;34m=\u001b[0m \u001b[0mself\u001b[0m\u001b[0;34m.\u001b[0m\u001b[0m_get_id\u001b[0m\u001b[0;34m(\u001b[0m\u001b[0;34m\"playlist\"\u001b[0m\u001b[0;34m,\u001b[0m \u001b[0mplaylist_id\u001b[0m\u001b[0;34m)\u001b[0m\u001b[0;34m\u001b[0m\u001b[0;34m\u001b[0m\u001b[0m\n\u001b[1;32m   1030\u001b[0m         \u001b[0mftracks\u001b[0m \u001b[0;34m=\u001b[0m \u001b[0;34m[\u001b[0m\u001b[0mself\u001b[0m\u001b[0;34m.\u001b[0m\u001b[0m_get_uri\u001b[0m\u001b[0;34m(\u001b[0m\u001b[0;34m\"track\"\u001b[0m\u001b[0;34m,\u001b[0m \u001b[0mtid\u001b[0m\u001b[0;34m)\u001b[0m \u001b[0;32mfor\u001b[0m \u001b[0mtid\u001b[0m \u001b[0;32min\u001b[0m \u001b[0mitems\u001b[0m\u001b[0;34m]\u001b[0m\u001b[0;34m\u001b[0m\u001b[0;34m\u001b[0m\u001b[0m\n\u001b[0;32m-> 1031\u001b[0;31m         return self._post(\n\u001b[0m\u001b[1;32m   1032\u001b[0m             \u001b[0;34m\"playlists/%s/tracks\"\u001b[0m \u001b[0;34m%\u001b[0m \u001b[0;34m(\u001b[0m\u001b[0mplid\u001b[0m\u001b[0;34m)\u001b[0m\u001b[0;34m,\u001b[0m\u001b[0;34m\u001b[0m\u001b[0;34m\u001b[0m\u001b[0m\n\u001b[1;32m   1033\u001b[0m             \u001b[0mpayload\u001b[0m\u001b[0;34m=\u001b[0m\u001b[0mftracks\u001b[0m\u001b[0;34m,\u001b[0m\u001b[0;34m\u001b[0m\u001b[0;34m\u001b[0m\u001b[0m\n",
      "\u001b[0;32m~/opt/anaconda3/lib/python3.9/site-packages/spotipy/client.py\u001b[0m in \u001b[0;36m_post\u001b[0;34m(self, url, args, payload, **kwargs)\u001b[0m\n\u001b[1;32m    300\u001b[0m         \u001b[0;32mif\u001b[0m \u001b[0margs\u001b[0m\u001b[0;34m:\u001b[0m\u001b[0;34m\u001b[0m\u001b[0;34m\u001b[0m\u001b[0m\n\u001b[1;32m    301\u001b[0m             \u001b[0mkwargs\u001b[0m\u001b[0;34m.\u001b[0m\u001b[0mupdate\u001b[0m\u001b[0;34m(\u001b[0m\u001b[0margs\u001b[0m\u001b[0;34m)\u001b[0m\u001b[0;34m\u001b[0m\u001b[0;34m\u001b[0m\u001b[0m\n\u001b[0;32m--> 302\u001b[0;31m         \u001b[0;32mreturn\u001b[0m \u001b[0mself\u001b[0m\u001b[0;34m.\u001b[0m\u001b[0m_internal_call\u001b[0m\u001b[0;34m(\u001b[0m\u001b[0;34m\"POST\"\u001b[0m\u001b[0;34m,\u001b[0m \u001b[0murl\u001b[0m\u001b[0;34m,\u001b[0m \u001b[0mpayload\u001b[0m\u001b[0;34m,\u001b[0m \u001b[0mkwargs\u001b[0m\u001b[0;34m)\u001b[0m\u001b[0;34m\u001b[0m\u001b[0;34m\u001b[0m\u001b[0m\n\u001b[0m\u001b[1;32m    303\u001b[0m \u001b[0;34m\u001b[0m\u001b[0m\n\u001b[1;32m    304\u001b[0m     \u001b[0;32mdef\u001b[0m \u001b[0m_delete\u001b[0m\u001b[0;34m(\u001b[0m\u001b[0mself\u001b[0m\u001b[0;34m,\u001b[0m \u001b[0murl\u001b[0m\u001b[0;34m,\u001b[0m \u001b[0margs\u001b[0m\u001b[0;34m=\u001b[0m\u001b[0;32mNone\u001b[0m\u001b[0;34m,\u001b[0m \u001b[0mpayload\u001b[0m\u001b[0;34m=\u001b[0m\u001b[0;32mNone\u001b[0m\u001b[0;34m,\u001b[0m \u001b[0;34m**\u001b[0m\u001b[0mkwargs\u001b[0m\u001b[0;34m)\u001b[0m\u001b[0;34m:\u001b[0m\u001b[0;34m\u001b[0m\u001b[0;34m\u001b[0m\u001b[0m\n",
      "\u001b[0;32m~/opt/anaconda3/lib/python3.9/site-packages/spotipy/client.py\u001b[0m in \u001b[0;36m_internal_call\u001b[0;34m(self, method, url, payload, params)\u001b[0m\n\u001b[1;32m    265\u001b[0m             )\n\u001b[1;32m    266\u001b[0m \u001b[0;34m\u001b[0m\u001b[0m\n\u001b[0;32m--> 267\u001b[0;31m             raise SpotifyException(\n\u001b[0m\u001b[1;32m    268\u001b[0m                 \u001b[0mresponse\u001b[0m\u001b[0;34m.\u001b[0m\u001b[0mstatus_code\u001b[0m\u001b[0;34m,\u001b[0m\u001b[0;34m\u001b[0m\u001b[0;34m\u001b[0m\u001b[0m\n\u001b[1;32m    269\u001b[0m                 \u001b[0;34m-\u001b[0m\u001b[0;36m1\u001b[0m\u001b[0;34m,\u001b[0m\u001b[0;34m\u001b[0m\u001b[0;34m\u001b[0m\u001b[0m\n",
      "\u001b[0;31mSpotifyException\u001b[0m: http status: 400, code:-1 - https://api.spotify.com/v1/playlists/0rALt9jdkB15XIQvTncxiy/tracks:\n Error parsing JSON., reason: None"
     ]
    }
   ],
   "source": [
    "# get the ids of the track currently in the playlist\n",
    "current_tracks = spotify.playlist(PLAYLIST_ID)['tracks']['items']\n",
    "current_ids = {track['track']['id'] for track in current_tracks}\n",
    "\n",
    "# get ids from songs to add\n",
    "new_track_ids = set()\n",
    "for artist_id in artist_ids:\n",
    "    # get song ids for the top 10 most popular songs in the Netherlands\n",
    "    top_tracks = spotify.artist_top_tracks(artist_id, 'NL')['tracks']\n",
    "    ids = [track['id'] for track in top_tracks]\n",
    "    new_track_ids.update(ids[:5])\n",
    "    \n",
    "# find out which songs to add and which to remove:\n",
    "to_remove = list(new_track_ids - current_ids)\n",
    "to_add = list(current_ids - new_track_ids)\n",
    "\n",
    "# remove items\n",
    "n_iter = len(to_remove) // 100 + 1\n",
    "for i in range(n_iter):\n",
    "    first = i*100\n",
    "    last = min(i*100+100, len(to_remove))\n",
    "    spotify.playlist_remove_all_occurrences_of_items(PLAYLIST_ID, \n",
    "                                                     to_remove[first:last])\n",
    "    time.sleep(3)\n",
    "\n",
    "    \n",
    "n_iter = len(to_add) // 100 + 1\n",
    "for i in range(n_iter):\n",
    "    print(i)\n",
    "    first = i*100\n",
    "    last = min(i*100+100, len(to_add))\n",
    "    spotify.playlist_add_items(PLAYLIST_ID, \n",
    "                               track_ids[first:last])\n",
    "    time.sleep(3)\n"
   ]
  },
  {
   "cell_type": "code",
   "execution_count": 76,
   "id": "fb47b49e",
   "metadata": {},
   "outputs": [
    {
     "data": {
      "text/plain": [
       "2"
      ]
     },
     "execution_count": 76,
     "metadata": {},
     "output_type": "execute_result"
    }
   ],
   "source": [
    "61//50 +1"
   ]
  },
  {
   "cell_type": "code",
   "execution_count": 58,
   "id": "d0154b47",
   "metadata": {},
   "outputs": [],
   "source": [
    "current_tracks = spotify.playlist(PLAYLIST_ID)['tracks']['items']\n",
    "current_ids = {track['track']['id'] for track in current_tracks}"
   ]
  },
  {
   "cell_type": "code",
   "execution_count": 57,
   "id": "035e40f5",
   "metadata": {},
   "outputs": [],
   "source": []
  },
  {
   "cell_type": "code",
   "execution_count": 56,
   "id": "ad80f2f1",
   "metadata": {},
   "outputs": [
    {
     "data": {
      "text/plain": [
       "'3EhuEeTQP2tAICvTakOEYF'"
      ]
     },
     "execution_count": 56,
     "metadata": {},
     "output_type": "execute_result"
    }
   ],
   "source": [
    "current_tracks[0]"
   ]
  },
  {
   "cell_type": "code",
   "execution_count": 60,
   "id": "c5f76ef2",
   "metadata": {},
   "outputs": [
    {
     "ename": "TypeError",
     "evalue": "unsupported operand type(s) for +: 'set' and 'set'",
     "output_type": "error",
     "traceback": [
      "\u001b[0;31m---------------------------------------------------------------------------\u001b[0m",
      "\u001b[0;31mTypeError\u001b[0m                                 Traceback (most recent call last)",
      "\u001b[0;32m/var/folders/p4/3s4192592675f71sdffr2ydr0000gn/T/ipykernel_85670/2737100704.py\u001b[0m in \u001b[0;36m<module>\u001b[0;34m\u001b[0m\n\u001b[0;32m----> 1\u001b[0;31m \u001b[0;34m{\u001b[0m\u001b[0;36m1\u001b[0m\u001b[0;34m,\u001b[0m\u001b[0;36m2\u001b[0m\u001b[0;34m,\u001b[0m\u001b[0;36m3\u001b[0m\u001b[0;34m}\u001b[0m \u001b[0;34m+\u001b[0m \u001b[0;34m{\u001b[0m\u001b[0;36m1\u001b[0m\u001b[0;34m,\u001b[0m\u001b[0;36m3\u001b[0m\u001b[0;34m}\u001b[0m\u001b[0;34m\u001b[0m\u001b[0;34m\u001b[0m\u001b[0m\n\u001b[0m",
      "\u001b[0;31mTypeError\u001b[0m: unsupported operand type(s) for +: 'set' and 'set'"
     ]
    }
   ],
   "source": [
    "{1,2,3} + {1,3}"
   ]
  }
 ],
 "metadata": {
  "kernelspec": {
   "display_name": "Python 3 (ipykernel)",
   "language": "python",
   "name": "python3"
  },
  "language_info": {
   "codemirror_mode": {
    "name": "ipython",
    "version": 3
   },
   "file_extension": ".py",
   "mimetype": "text/x-python",
   "name": "python",
   "nbconvert_exporter": "python",
   "pygments_lexer": "ipython3",
   "version": "3.9.7"
  }
 },
 "nbformat": 4,
 "nbformat_minor": 5
}
