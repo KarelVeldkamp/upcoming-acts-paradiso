{
 "cells": [
  {
   "cell_type": "code",
   "execution_count": 22,
   "id": "bc1bdb08",
   "metadata": {},
   "outputs": [],
   "source": [
    "from requests_html import AsyncHTMLSession\n",
    "from bs4 import BeautifulSoup\n",
    "\n"
   ]
  },
  {
   "cell_type": "code",
   "execution_count": 50,
   "id": "811605d1",
   "metadata": {},
   "outputs": [],
   "source": [
    "asession = AsyncHTMLSession()\n",
    "r = await asession.get('https://www.paradiso.nl/en/')\n",
    "await r.html.arender()\n",
    "resp=r.html.raw_html\n",
    "\n",
    "soup = BeautifulSoup(resp, \"html.parser\")\n",
    "events = soup.find_all('div', class_='event-list__items')\n",
    "\n",
    "for event in events:\n",
    "    event.find('span', class_='event-list__item-status ng-binding ng-scope')"
   ]
  },
  {
   "cell_type": "code",
   "execution_count": null,
   "id": "711609cc",
   "metadata": {},
   "outputs": [],
   "source": [
    "def clean_title(text):\n",
    "    text = text.lower()\n",
    "    \n",
    "    # only kee firt artist if support act is listed\n",
    "    if '+' in text:\n",
    "        text = text.split('+')[0]\n",
    "        \n",
    "    if 'paradisolezing' in text:\n",
    "        return None\n",
    "        "
   ]
  },
  {
   "cell_type": "code",
   "execution_count": 59,
   "id": "d63d195d",
   "metadata": {},
   "outputs": [
    {
     "data": {
      "text/plain": [
       "False"
      ]
     },
     "execution_count": 59,
     "metadata": {},
     "output_type": "execute_result"
    }
   ],
   "source": []
  },
  {
   "cell_type": "code",
   "execution_count": 1,
   "id": "058395e1",
   "metadata": {},
   "outputs": [
    {
     "ename": "NameError",
     "evalue": "name 'events' is not defined",
     "output_type": "error",
     "traceback": [
      "\u001b[0;31m---------------------------------------------------------------------------\u001b[0m",
      "\u001b[0;31mNameError\u001b[0m                                 Traceback (most recent call last)",
      "\u001b[0;32m/var/folders/p4/3s4192592675f71sdffr2ydr0000gn/T/ipykernel_54075/1944524271.py\u001b[0m in \u001b[0;36m<module>\u001b[0;34m\u001b[0m\n\u001b[1;32m      1\u001b[0m \u001b[0;31m# loop though list of events\u001b[0m\u001b[0;34m\u001b[0m\u001b[0;34m\u001b[0m\u001b[0m\n\u001b[0;32m----> 2\u001b[0;31m \u001b[0;32mfor\u001b[0m \u001b[0mevent\u001b[0m \u001b[0;32min\u001b[0m \u001b[0mevents\u001b[0m\u001b[0;34m:\u001b[0m\u001b[0;34m\u001b[0m\u001b[0;34m\u001b[0m\u001b[0m\n\u001b[0m\u001b[1;32m      3\u001b[0m     \u001b[0;31m# continue to next iteration if event is canceled or postponed\u001b[0m\u001b[0;34m\u001b[0m\u001b[0;34m\u001b[0m\u001b[0m\n\u001b[1;32m      4\u001b[0m     \u001b[0mmessage\u001b[0m \u001b[0;34m=\u001b[0m \u001b[0mevent\u001b[0m\u001b[0;34m.\u001b[0m\u001b[0mfind\u001b[0m\u001b[0;34m(\u001b[0m\u001b[0;34m'span'\u001b[0m\u001b[0;34m,\u001b[0m \u001b[0mclass_\u001b[0m\u001b[0;34m=\u001b[0m\u001b[0;34m'event-list__item-status ng-binding ng-scope'\u001b[0m\u001b[0;34m)\u001b[0m\u001b[0;34m\u001b[0m\u001b[0;34m\u001b[0m\u001b[0m\n\u001b[1;32m      5\u001b[0m     \u001b[0;32mif\u001b[0m \u001b[0mmessage\u001b[0m\u001b[0;34m:\u001b[0m\u001b[0;34m\u001b[0m\u001b[0;34m\u001b[0m\u001b[0m\n",
      "\u001b[0;31mNameError\u001b[0m: name 'events' is not defined"
     ]
    }
   ],
   "source": [
    "# loop though list of events\n",
    "for event in events:\n",
    "    # continue to next iteration if event is canceled or postponed\n",
    "    message = event.find('span', class_='event-list__item-status ng-binding ng-scope')\n",
    "    if message:\n",
    "        if message.text.lower() in ['postponed', 'cancelled']:\n",
    "            continue\n",
    "            \n",
    "    # get event title\n",
    "    event_title = event.find('span', 'event-list__item-title ng-binding ng-scope').text\n",
    "    "
   ]
  },
  {
   "cell_type": "code",
   "execution_count": 43,
   "id": "383df402",
   "metadata": {},
   "outputs": [
    {
     "data": {
      "text/plain": [
       "['Sold out',\n",
       " 'Postponed',\n",
       " 'Sold out',\n",
       " 'Sold out',\n",
       " 'Cancelled',\n",
       " 'Sold out',\n",
       " 'Sold out',\n",
       " 'Cancelled',\n",
       " 'Sold out',\n",
       " 'Sold out',\n",
       " 'Postponed',\n",
       " 'Cancelled']"
      ]
     },
     "execution_count": 43,
     "metadata": {},
     "output_type": "execute_result"
    }
   ],
   "source": [
    "x = soup.find_all('span', class_='event-list__item-status ng-binding ng-scope')\n",
    "[y.text for y in x]"
   ]
  },
  {
   "cell_type": "code",
   "execution_count": 30,
   "id": "ee6412af",
   "metadata": {},
   "outputs": [],
   "source": []
  }
 ],
 "metadata": {
  "kernelspec": {
   "display_name": "Python 3 (ipykernel)",
   "language": "python",
   "name": "python3"
  },
  "language_info": {
   "codemirror_mode": {
    "name": "ipython",
    "version": 3
   },
   "file_extension": ".py",
   "mimetype": "text/x-python",
   "name": "python",
   "nbconvert_exporter": "python",
   "pygments_lexer": "ipython3",
   "version": "3.9.7"
  }
 },
 "nbformat": 4,
 "nbformat_minor": 5
}
